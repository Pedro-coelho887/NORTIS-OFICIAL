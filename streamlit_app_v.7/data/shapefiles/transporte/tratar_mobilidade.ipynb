{
 "cells": [
  {
   "cell_type": "code",
   "execution_count": 8,
   "metadata": {},
   "outputs": [],
   "source": [
    "import geopandas as gpd\n",
    "import pandas as pd\n",
    "import os\n",
    "\n",
    "def geojson_to_separate_xlsx(geojson_files, output_folder):\n",
    "    # Verificar se a pasta de saída existe, se não, criar\n",
    "    os.makedirs(output_folder, exist_ok=True)\n",
    "    \n",
    "    # Iterar sobre cada arquivo GeoJSON\n",
    "    for file in geojson_files:\n",
    "        # Ler o arquivo GeoJSON usando geopandas\n",
    "        gdf = gpd.read_file(file)\n",
    "\n",
    "        # Filtrar apenas as geometrias do tipo \"Point\"\n",
    "        points = gdf[gdf.geometry.type == 'Point']\n",
    "\n",
    "        if not points.empty:\n",
    "            all_points = []\n",
    "\n",
    "            # Para cada ponto, extrair as coordenadas e adicionar à lista\n",
    "            for _, row in points.iterrows():\n",
    "                coords = row.geometry.coords[0]\n",
    "                # Armazenar os dados em uma lista de dicionários\n",
    "                all_points.append({\n",
    "                    'Longitude': coords[0],\n",
    "                    'Latitude': coords[1],\n",
    "                    **row.drop('geometry')  # Inclui os demais atributos do GeoJSON\n",
    "                })\n",
    "\n",
    "            # Converter a lista de pontos em um DataFrame\n",
    "            df_points = pd.DataFrame(all_points)\n",
    "\n",
    "            # Definir o nome do arquivo Excel com base no nome do arquivo GeoJSON\n",
    "            base_name = os.path.splitext(os.path.basename(file))[0]\n",
    "            output_excel = os.path.join(output_folder, f'{base_name}.xlsx')\n",
    "\n",
    "            # Salvar o DataFrame em um arquivo Excel\n",
    "            df_points.to_excel(output_excel, index=False)\n",
    "            print(f\"Salvou {output_excel} com sucesso.\")\n"
   ]
  },
  {
   "cell_type": "markdown",
   "metadata": {},
   "source": [
    "## Mudar o crs dos arquivos"
   ]
  },
  {
   "cell_type": "code",
   "execution_count": 15,
   "metadata": {},
   "outputs": [],
   "source": [
    "# Função para processar GeoJSONs e salvá-los no formato desejado\n",
    "def processar_geojsons(arquivos_geojson, pasta_saida='dados_processados', crs_destino=4326, formato='GeoJSON'):\n",
    "    # Verificar se a pasta de saída existe, senão, criar\n",
    "    if not os.path.exists(pasta_saida):\n",
    "        os.makedirs(pasta_saida)\n",
    "    \n",
    "    geojson_list = []\n",
    "    \n",
    "    for arquivo in arquivos_geojson:\n",
    "        # Carregar o GeoJSON\n",
    "        gdf = gpd.read_file(arquivo)\n",
    "        \n",
    "        # Verificar se o CRS já está no formato de destino\n",
    "        if gdf.crs.to_epsg() != crs_destino:\n",
    "            # Transformar para coordenadas globais (EPSG:4326) somente se necessário\n",
    "            gdf = gdf.to_crs(epsg=crs_destino)\n",
    "        \n",
    "        # Verificar e limpar geometrias inválidas ou nulas\n",
    "        gdf = gdf[gdf.is_valid].dropna(subset=['geometry'])\n",
    "        \n",
    "        # Nome do arquivo de saída\n",
    "        nome_saida = os.path.join(pasta_saida, os.path.basename(arquivo).replace('.geojson', f'.{formato.lower()}'))\n",
    "        \n",
    "        # Salvar o arquivo no formato desejado\n",
    "        if formato.lower() == 'geojson':\n",
    "            gdf.to_file(nome_saida, driver='GeoJSON')\n",
    "        elif formato.lower() == 'shapefile':\n",
    "            gdf.to_file(nome_saida, driver='ESRI Shapefile')\n",
    "        \n",
    "        # Adicionar ao geojson_list\n",
    "        geojson_list.append((arquivo, gdf))\n",
    "    \n",
    "    return geojson_list"
   ]
  },
  {
   "cell_type": "code",
   "execution_count": 16,
   "metadata": {},
   "outputs": [
    {
     "name": "stdout",
     "output_type": "stream",
     "text": [
      "CRS atual do arquivo SAD69-96_SHP_areainfluenciametro.geojson: EPSG:4326\n",
      "CRS atual do arquivo SAD69-96_SHP_corredoronibus_line.geojson: EPSG:4326\n",
      "CRS atual do arquivo SAD69-96_SHP_estacaometro_point.geojson: EPSG:4326\n",
      "CRS atual do arquivo SAD69-96_SHP_estacaometroprojeto_point.geojson: EPSG:4326\n",
      "CRS atual do arquivo SAD69-96_SHP_estacaotrem.geojson: EPSG:4326\n",
      "CRS atual do arquivo SAD69-96_SHP_estacaotremprojeto_point.geojson: EPSG:4326\n",
      "CRS atual do arquivo SAD69-96_SHP_ferroviamdc.geojson: EPSG:4326\n",
      "CRS atual do arquivo SAD69-96_SHP_linhametro_line.geojson: EPSG:4326\n",
      "CRS atual do arquivo SAD69-96_SHP_linhametroprojeto.geojson: EPSG:4326\n",
      "CRS atual do arquivo SAD69-96_SHP_linhatrem.geojson: EPSG:4326\n",
      "CRS atual do arquivo SAD69-96_SHP_linhatremprojeto_line.geojson: EPSG:4326\n",
      "CRS atual do arquivo SAD69-96_SHP_pontoonibus.geojson: EPSG:4326\n",
      "CRS atual do arquivo sad6996_terminal_onibus.geojson: EPSG:4326\n"
     ]
    }
   ],
   "source": [
    "# Lista de arquivos GeoJSON\n",
    "arquivos_geojson = [\n",
    "    'SAD69-96_SHP_areainfluenciametro.geojson',\n",
    "    'SAD69-96_SHP_corredoronibus_line.geojson',\n",
    "    'SAD69-96_SHP_estacaometro_point.geojson',\n",
    "    'SAD69-96_SHP_estacaometroprojeto_point.geojson',\n",
    "    'SAD69-96_SHP_estacaotrem.geojson',\n",
    "    'SAD69-96_SHP_estacaotremprojeto_point.geojson',\n",
    "    'SAD69-96_SHP_ferroviamdc.geojson',\n",
    "    'SAD69-96_SHP_linhametro_line.geojson',\n",
    "    'SAD69-96_SHP_linhametroprojeto.geojson',\n",
    "    'SAD69-96_SHP_linhatrem.geojson',\n",
    "    'SAD69-96_SHP_linhatremprojeto_line.geojson',\n",
    "    'SAD69-96_SHP_pontoonibus.geojson',\n",
    "    'sad6996_terminal_onibus.geojson',\n",
    "]\n",
    "\n",
    "# Processar os GeoJSONs e salvá-los\n",
    "geojson_list = processar_geojsons(arquivos_geojson, formato='GeoJSON')"
   ]
  },
  {
   "cell_type": "code",
   "execution_count": 17,
   "metadata": {},
   "outputs": [
    {
     "name": "stdout",
     "output_type": "stream",
     "text": [
      "Salvou output_xlsx_files\\SAD69-96_SHP_estacaometro_point_EPSG4326.xlsx com sucesso.\n",
      "Salvou output_xlsx_files\\SAD69-96_SHP_estacaometroprojeto_point_EPSG4326.xlsx com sucesso.\n",
      "Salvou output_xlsx_files\\SAD69-96_SHP_estacaotrem_EPSG4326.xlsx com sucesso.\n",
      "Salvou output_xlsx_files\\SAD69-96_SHP_estacaotremprojeto_point_EPSG4326.xlsx com sucesso.\n",
      "Salvou output_xlsx_files\\SAD69-96_SHP_pontoonibus_EPSG4326.xlsx com sucesso.\n",
      "Salvou output_xlsx_files\\sad6996_terminal_onibus_EPSG4326.xlsx com sucesso.\n"
     ]
    }
   ],
   "source": [
    "\n",
    "# Exemplo de uso\n",
    "geojson_files = [\n",
    "    'SAD69-96_SHP_areainfluenciametro_EPSG4326.geojson',\n",
    "    'SAD69-96_SHP_corredoronibus_line_EPSG4326.geojson',\n",
    "    'SAD69-96_SHP_estacaometro_point_EPSG4326.geojson',\n",
    "    'SAD69-96_SHP_estacaometroprojeto_point_EPSG4326.geojson',\n",
    "    'SAD69-96_SHP_estacaotrem_EPSG4326.geojson',\n",
    "    'SAD69-96_SHP_estacaotremprojeto_point_EPSG4326.geojson',\n",
    "    'SAD69-96_SHP_ferroviamdc_EPSG4326.geojson',\n",
    "    'SAD69-96_SHP_linhametro_line_EPSG4326.geojson',\n",
    "    'SAD69-96_SHP_linhametroprojeto_EPSG4326.geojson',\n",
    "    'SAD69-96_SHP_linhatrem_EPSG4326.geojson',\n",
    "    'SAD69-96_SHP_linhatremprojeto_line_EPSG4326.geojson',\n",
    "    'SAD69-96_SHP_pontoonibus_EPSG4326.geojson',\n",
    "    'sad6996_terminal_onibus_EPSG4326.geojson',\n",
    "    ]  # Lista de arquivos GeoJSON\n",
    "output_folder = 'output_xlsx_files'  # Pasta onde os arquivos Excel serão salvos\n",
    "geojson_to_separate_xlsx(geojson_files, output_folder)"
   ]
  },
  {
   "cell_type": "code",
   "execution_count": null,
   "metadata": {},
   "outputs": [],
   "source": []
  }
 ],
 "metadata": {
  "kernelspec": {
   "display_name": "Python 3",
   "language": "python",
   "name": "python3"
  },
  "language_info": {
   "codemirror_mode": {
    "name": "ipython",
    "version": 3
   },
   "file_extension": ".py",
   "mimetype": "text/x-python",
   "name": "python",
   "nbconvert_exporter": "python",
   "pygments_lexer": "ipython3",
   "version": "3.12.5"
  }
 },
 "nbformat": 4,
 "nbformat_minor": 2
}
