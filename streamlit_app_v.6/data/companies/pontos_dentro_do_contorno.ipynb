{
 "cells": [
  {
   "cell_type": "code",
   "execution_count": 3,
   "metadata": {},
   "outputs": [
    {
     "name": "stderr",
     "output_type": "stream",
     "text": [
      "C:\\Users\\Denil\\AppData\\Local\\Temp\\ipykernel_20736\\3035136001.py:28: DeprecationWarning: The 'unary_union' attribute is deprecated, use the 'union_all()' method instead.\n",
      "  estabelecimentos_dentro_contorno = estabelecimentos_gdf[estabelecimentos_gdf.geometry.within(sp_contorno.unary_union)]\n"
     ]
    },
    {
     "name": "stdout",
     "output_type": "stream",
     "text": [
      "                                 id                 Rede  \\\n",
      "0  Academia de Ginastica_10.093.874         A! Body Tech   \n",
      "1  Academia de Ginastica_10.156.197  Companhia Athletica   \n",
      "3  Academia de Ginastica_11.093.385  Engenharia do Corpo   \n",
      "4  Academia de Ginastica_11.093.386            Smart Fit   \n",
      "5  Academia de Ginastica_11.093.387              Bluefit   \n",
      "\n",
      "                                            Nome    Localizado em  \\\n",
      "0                            Brooklin Guararapes              Rua   \n",
      "1                                            NaN  Shopping Center   \n",
      "3                   Academia Engenharia do Corpo              Rua   \n",
      "4  Academia Smart Fit Avenida Conselheiro Carrao              Rua   \n",
      "5                                        Bluefit              Rua   \n",
      "\n",
      "                        Endereço                 Bairro                 CEP  \\\n",
      "0               R Guararapes, 20           Alto Da Lapa           04561-000   \n",
      "1  Av Roque Petroni Júnior, 1089  Chácara Santo Antônio  [4707900, 4707970]   \n",
      "3                 Av. Reg. Feijó        Vila Reg. Feijó           03342-001   \n",
      "4         Av. Conselheiro Carrão      Vila Gomes Cardim           03403-000   \n",
      "5                  Alfredo Pujol                Santana           02017-011   \n",
      "\n",
      "                    Tipo   Latitude  Longitude Unnamed: 10  \\\n",
      "0  Academia de Ginastica -23.522665 -46.704165         NaN   \n",
      "1  Academia de Ginastica -23.623109 -46.698569         NaN   \n",
      "3  Academia de Ginastica -23.558981 -46.568930         NaN   \n",
      "4  Academia de Ginastica -23.549771 -46.545412         NaN   \n",
      "5  Academia de Ginastica -23.500255 -46.634622         NaN   \n",
      "\n",
      "                      geometry  \n",
      "0  POINT (-46.70416 -23.52266)  \n",
      "1  POINT (-46.69857 -23.62311)  \n",
      "3  POINT (-46.56893 -23.55898)  \n",
      "4  POINT (-46.54541 -23.54977)  \n",
      "5  POINT (-46.63462 -23.50026)  \n"
     ]
    }
   ],
   "source": [
    "import pandas as pd \n",
    "import geopandas as gpd\n",
    "import sys\n",
    "import os\n",
    "sys.path.append(os.path.abspath(\"../..\"))\n",
    "from Search.Search_Archives import encontrar_arquivo\n",
    "from Search.Search_Diretory import encontrar_diretorio\n",
    "\n",
    "# Caminho para o arquivo de estabelecimentos corrigidos\n",
    "estabelecimentos_path = encontrar_arquivo('Estabelecimentos.csv')\n",
    "estabelecimentos = pd.read_csv(estabelecimentos_path)\n",
    "\n",
    "# Caminho para o arquivo do contorno de São Paulo\n",
    "path = encontrar_diretorio(\"distritos_quadras\")\n",
    "arquivo_geojson = os.path.join(path, \"sao_paulo_contorno.geojson\")\n",
    "\n",
    "# Carregar o contorno de São Paulo\n",
    "sp_contorno = gpd.read_file(arquivo_geojson)\n",
    "\n",
    "# Converter os estabelecimentos em um GeoDataFrame\n",
    "estabelecimentos_gdf = gpd.GeoDataFrame(\n",
    "    estabelecimentos,\n",
    "    geometry=gpd.points_from_xy(estabelecimentos.Longitude, estabelecimentos.Latitude),\n",
    "    crs=sp_contorno.crs\n",
    ")\n",
    "\n",
    "# Filtrar os estabelecimentos dentro do contorno de São Paulo\n",
    "estabelecimentos_dentro_contorno = estabelecimentos_gdf[estabelecimentos_gdf.geometry.within(sp_contorno.unary_union)]\n",
    "\n",
    "# Exibir ou salvar o resultado\n",
    "print(estabelecimentos_dentro_contorno.head())\n",
    "\n",
    "# Opcional: salvar em um arquivo CSV\n",
    "estabelecimentos_dentro_contorno.to_csv('estabelecimentos_dentro_contorno.csv', index=False)\n"
   ]
  }
 ],
 "metadata": {
  "kernelspec": {
   "display_name": "Python 3",
   "language": "python",
   "name": "python3"
  },
  "language_info": {
   "codemirror_mode": {
    "name": "ipython",
    "version": 3
   },
   "file_extension": ".py",
   "mimetype": "text/x-python",
   "name": "python",
   "nbconvert_exporter": "python",
   "pygments_lexer": "ipython3",
   "version": "3.12.5"
  }
 },
 "nbformat": 4,
 "nbformat_minor": 2
}
